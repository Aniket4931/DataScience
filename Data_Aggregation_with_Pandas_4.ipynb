{
 "cells": [
  {
   "cell_type": "markdown",
   "id": "1f8afc56-fef0-43ba-afa9-19d78b60fed1",
   "metadata": {},
   "source": [
    "# Data Aggregation with Pandas"
   ]
  },
  {
   "cell_type": "code",
   "execution_count": 39,
   "id": "0abfe36a-5314-425b-9bf1-458fee886f04",
   "metadata": {},
   "outputs": [],
   "source": [
    "import pandas as pd\n",
    "\n",
    "data = {\n",
    "    'City': ['Mumbai', 'Delhi', 'Bangalore', 'Hyderabad', 'Chennai','Mumbai','Hyderabad'],\n",
    "    'Date': pd.date_range(start='2024-01-01', periods=7), \n",
    "    'Temperature': [30, 32, 28.5, 35, 40,20.5,32]\n",
    "}\n",
    "df = pd.DataFrame(data)\n",
    "df.to_csv('temperature_data.csv', index=False)"
   ]
  },
  {
   "cell_type": "markdown",
   "id": "9c6fa5f0-b8db-40a3-9d11-2c9a49f39133",
   "metadata": {},
   "source": [
    "#### Problem: Utilize Pandas to analyze a dataset containing information about daily temperature recordings across different cities. The dataset includes columns: 'City', 'Date', and 'Temperature'. Write a Python script to:\n"
   ]
  },
  {
   "cell_type": "code",
   "execution_count": 40,
   "id": "c4295231-55e5-49f0-916b-25bfc813bb9a",
   "metadata": {},
   "outputs": [],
   "source": [
    "Temperature_data=pd.read_csv(\"temperature_data.csv\")"
   ]
  },
  {
   "cell_type": "code",
   "execution_count": 41,
   "id": "081b9516-76d9-4736-b4ac-c2ab2d6045e6",
   "metadata": {},
   "outputs": [
    {
     "data": {
      "text/html": [
       "<div>\n",
       "<style scoped>\n",
       "    .dataframe tbody tr th:only-of-type {\n",
       "        vertical-align: middle;\n",
       "    }\n",
       "\n",
       "    .dataframe tbody tr th {\n",
       "        vertical-align: top;\n",
       "    }\n",
       "\n",
       "    .dataframe thead th {\n",
       "        text-align: right;\n",
       "    }\n",
       "</style>\n",
       "<table border=\"1\" class=\"dataframe\">\n",
       "  <thead>\n",
       "    <tr style=\"text-align: right;\">\n",
       "      <th></th>\n",
       "      <th>City</th>\n",
       "      <th>Date</th>\n",
       "      <th>Temperature</th>\n",
       "    </tr>\n",
       "  </thead>\n",
       "  <tbody>\n",
       "    <tr>\n",
       "      <th>0</th>\n",
       "      <td>Mumbai</td>\n",
       "      <td>2024-01-01</td>\n",
       "      <td>30.0</td>\n",
       "    </tr>\n",
       "    <tr>\n",
       "      <th>1</th>\n",
       "      <td>Delhi</td>\n",
       "      <td>2024-01-02</td>\n",
       "      <td>32.0</td>\n",
       "    </tr>\n",
       "    <tr>\n",
       "      <th>2</th>\n",
       "      <td>Bangalore</td>\n",
       "      <td>2024-01-03</td>\n",
       "      <td>28.5</td>\n",
       "    </tr>\n",
       "    <tr>\n",
       "      <th>3</th>\n",
       "      <td>Hyderabad</td>\n",
       "      <td>2024-01-04</td>\n",
       "      <td>35.0</td>\n",
       "    </tr>\n",
       "    <tr>\n",
       "      <th>4</th>\n",
       "      <td>Chennai</td>\n",
       "      <td>2024-01-05</td>\n",
       "      <td>40.0</td>\n",
       "    </tr>\n",
       "    <tr>\n",
       "      <th>5</th>\n",
       "      <td>Mumbai</td>\n",
       "      <td>2024-01-06</td>\n",
       "      <td>20.5</td>\n",
       "    </tr>\n",
       "    <tr>\n",
       "      <th>6</th>\n",
       "      <td>Hyderabad</td>\n",
       "      <td>2024-01-07</td>\n",
       "      <td>32.0</td>\n",
       "    </tr>\n",
       "  </tbody>\n",
       "</table>\n",
       "</div>"
      ],
      "text/plain": [
       "        City        Date  Temperature\n",
       "0     Mumbai  2024-01-01         30.0\n",
       "1      Delhi  2024-01-02         32.0\n",
       "2  Bangalore  2024-01-03         28.5\n",
       "3  Hyderabad  2024-01-04         35.0\n",
       "4    Chennai  2024-01-05         40.0\n",
       "5     Mumbai  2024-01-06         20.5\n",
       "6  Hyderabad  2024-01-07         32.0"
      ]
     },
     "execution_count": 41,
     "metadata": {},
     "output_type": "execute_result"
    }
   ],
   "source": [
    "Temperature_data"
   ]
  },
  {
   "cell_type": "markdown",
   "id": "c22750ad-f22f-4505-a58e-5fceedfa95fa",
   "metadata": {},
   "source": [
    "#### Calculate the average temperature for each city."
   ]
  },
  {
   "cell_type": "code",
   "execution_count": 42,
   "id": "f4288502-b1b2-437c-bc41-84aaf7a41e1d",
   "metadata": {},
   "outputs": [],
   "source": [
    "average_temperature=Temperature_data.groupby(\"City\")[\"Temperature\"].mean()"
   ]
  },
  {
   "cell_type": "code",
   "execution_count": 43,
   "id": "b0c250da-e702-4c7c-a464-b59718e0bbc5",
   "metadata": {},
   "outputs": [
    {
     "data": {
      "text/plain": [
       "City\n",
       "Bangalore    28.50\n",
       "Chennai      40.00\n",
       "Delhi        32.00\n",
       "Hyderabad    33.50\n",
       "Mumbai       25.25\n",
       "Name: Temperature, dtype: float64"
      ]
     },
     "execution_count": 43,
     "metadata": {},
     "output_type": "execute_result"
    }
   ],
   "source": [
    "average_temperature"
   ]
  },
  {
   "cell_type": "markdown",
   "id": "3dfe4a31-dd94-4ea1-8bf3-f8c371e75f63",
   "metadata": {},
   "source": [
    "#### Determine the city with the highest average temperature."
   ]
  },
  {
   "cell_type": "code",
   "execution_count": 58,
   "id": "7e403fac-87a4-4fc9-84f1-07a835d7c86e",
   "metadata": {},
   "outputs": [],
   "source": [
    "higest=Temperature_data.max()"
   ]
  },
  {
   "cell_type": "code",
   "execution_count": 59,
   "id": "be84bca1-e65c-4f9d-b0f7-cb4f5c7df3b9",
   "metadata": {},
   "outputs": [
    {
     "data": {
      "text/plain": [
       "City               Mumbai\n",
       "Date           2024-01-07\n",
       "Temperature          40.0\n",
       "dtype: object"
      ]
     },
     "execution_count": 59,
     "metadata": {},
     "output_type": "execute_result"
    }
   ],
   "source": [
    "higest"
   ]
  },
  {
   "cell_type": "markdown",
   "id": "adac3b56-97d4-4bee-b7f3-8d365a344dcc",
   "metadata": {},
   "source": [
    "#### Find the date with the lowest recorded temperature across all cities."
   ]
  },
  {
   "cell_type": "code",
   "execution_count": 70,
   "id": "7e3d7882-4340-4c96-af6d-57e22a00abf9",
   "metadata": {},
   "outputs": [],
   "source": [
    "lowest=Temperature_data.min()"
   ]
  },
  {
   "cell_type": "code",
   "execution_count": 71,
   "id": "a546604d-ee61-486c-8245-0a2bf2817777",
   "metadata": {},
   "outputs": [
    {
     "data": {
      "text/plain": [
       "City            Bangalore\n",
       "Date           2024-01-01\n",
       "Temperature          20.5\n",
       "dtype: object"
      ]
     },
     "execution_count": 71,
     "metadata": {},
     "output_type": "execute_result"
    }
   ],
   "source": [
    "lowest"
   ]
  },
  {
   "cell_type": "code",
   "execution_count": null,
   "id": "d28bc74d-52ca-4ebf-a880-ce0bdab952d2",
   "metadata": {},
   "outputs": [],
   "source": []
  }
 ],
 "metadata": {
  "kernelspec": {
   "display_name": "Python 3 (ipykernel)",
   "language": "python",
   "name": "python3"
  },
  "language_info": {
   "codemirror_mode": {
    "name": "ipython",
    "version": 3
   },
   "file_extension": ".py",
   "mimetype": "text/x-python",
   "name": "python",
   "nbconvert_exporter": "python",
   "pygments_lexer": "ipython3",
   "version": "3.12.2"
  }
 },
 "nbformat": 4,
 "nbformat_minor": 5
}
