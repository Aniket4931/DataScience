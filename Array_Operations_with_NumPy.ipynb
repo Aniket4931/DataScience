{
 "cells": [
  {
   "cell_type": "markdown",
   "id": "5a0d6287-64b4-44f0-b78e-ab06e8dcca30",
   "metadata": {},
   "source": [
    "## Problem: Create two NumPy arrays, A and B, of size 5x5 filled with random integers. Write a Python function to:\r\n"
   ]
  },
  {
   "cell_type": "markdown",
   "id": "7d18d81d-f197-44a5-a018-7142a2868e70",
   "metadata": {},
   "source": [
    "### Find the element-wise sum of A and B.\r\n"
   ]
  },
  {
   "cell_type": "code",
   "execution_count": 2,
   "id": "124f1a8b-099c-4119-8b9b-c765b319aab5",
   "metadata": {},
   "outputs": [],
   "source": [
    "import numpy as np"
   ]
  },
  {
   "cell_type": "code",
   "execution_count": 9,
   "id": "c55cfd16-7489-40b4-84a7-bfed359c42cc",
   "metadata": {},
   "outputs": [],
   "source": [
    "A=np.random.randint(5,size=(5,5))"
   ]
  },
  {
   "cell_type": "code",
   "execution_count": 10,
   "id": "1ae5c4bb-5357-4bf2-99d4-d2741476feb7",
   "metadata": {},
   "outputs": [
    {
     "data": {
      "text/plain": [
       "array([[1, 2, 1, 4, 3],\n",
       "       [4, 1, 0, 0, 2],\n",
       "       [0, 1, 4, 2, 0],\n",
       "       [4, 1, 1, 3, 2],\n",
       "       [2, 0, 1, 4, 3]])"
      ]
     },
     "execution_count": 10,
     "metadata": {},
     "output_type": "execute_result"
    }
   ],
   "source": [
    "A"
   ]
  },
  {
   "cell_type": "code",
   "execution_count": 11,
   "id": "efc2f78d-27e3-49fa-bfff-fb3f7915e9e6",
   "metadata": {},
   "outputs": [],
   "source": [
    "B=np.random.randint(5,size=(5,5))"
   ]
  },
  {
   "cell_type": "code",
   "execution_count": 12,
   "id": "4b930627-ac68-42bc-9233-5853a5cb37b8",
   "metadata": {},
   "outputs": [
    {
     "data": {
      "text/plain": [
       "array([[0, 3, 3, 3, 3],\n",
       "       [2, 3, 4, 0, 2],\n",
       "       [1, 2, 0, 1, 4],\n",
       "       [0, 0, 3, 2, 2],\n",
       "       [2, 1, 0, 3, 2]])"
      ]
     },
     "execution_count": 12,
     "metadata": {},
     "output_type": "execute_result"
    }
   ],
   "source": [
    "B"
   ]
  },
  {
   "cell_type": "code",
   "execution_count": 13,
   "id": "bae60e4e-8a35-4843-85ae-216a6b30d516",
   "metadata": {},
   "outputs": [
    {
     "data": {
      "text/plain": [
       "array([[1, 5, 4, 7, 6],\n",
       "       [6, 4, 4, 0, 4],\n",
       "       [1, 3, 4, 3, 4],\n",
       "       [4, 1, 4, 5, 4],\n",
       "       [4, 1, 1, 7, 5]])"
      ]
     },
     "execution_count": 13,
     "metadata": {},
     "output_type": "execute_result"
    }
   ],
   "source": [
    "sum=A+B\n",
    "sum"
   ]
  },
  {
   "cell_type": "markdown",
   "id": "c15ea58d-c2c3-4f49-addd-2ba2019f2af6",
   "metadata": {},
   "source": [
    "## Compute the dot product of A and B.\r\n"
   ]
  },
  {
   "cell_type": "code",
   "execution_count": 14,
   "id": "d6d876bb-93da-4901-808e-2698c8215cd7",
   "metadata": {},
   "outputs": [],
   "source": [
    "dot_product=np.dot(A,B)"
   ]
  },
  {
   "cell_type": "code",
   "execution_count": 15,
   "id": "9646619c-99d9-4738-8d95-58c2f2d90094",
   "metadata": {},
   "outputs": [
    {
     "data": {
      "text/plain": [
       "array([[11, 14, 23, 21, 25],\n",
       "       [ 6, 17, 16, 18, 18],\n",
       "       [ 6, 11, 10,  8, 22],\n",
       "       [ 7, 19, 25, 25, 28],\n",
       "       [ 7, 11, 18, 24, 24]])"
      ]
     },
     "execution_count": 15,
     "metadata": {},
     "output_type": "execute_result"
    }
   ],
   "source": [
    "dot_product"
   ]
  },
  {
   "cell_type": "markdown",
   "id": "5a805c83-c2d8-4c60-8e00-e403b535fe9b",
   "metadata": {},
   "source": [
    "## Calculate the mean and standard deviation of each row in A and B."
   ]
  },
  {
   "cell_type": "code",
   "execution_count": 28,
   "id": "8295ed63-7f7b-48c6-8027-938032193d20",
   "metadata": {},
   "outputs": [
    {
     "data": {
      "text/plain": [
       "array([[1, 2, 1, 4, 3],\n",
       "       [4, 1, 0, 0, 2],\n",
       "       [0, 1, 4, 2, 0],\n",
       "       [4, 1, 1, 3, 2],\n",
       "       [2, 0, 1, 4, 3]])"
      ]
     },
     "execution_count": 28,
     "metadata": {},
     "output_type": "execute_result"
    }
   ],
   "source": [
    "A"
   ]
  },
  {
   "cell_type": "code",
   "execution_count": 29,
   "id": "6b595593-815c-4a27-baf8-4e6da3105a51",
   "metadata": {},
   "outputs": [
    {
     "data": {
      "text/plain": [
       "array([[0, 3, 3, 3, 3],\n",
       "       [2, 3, 4, 0, 2],\n",
       "       [1, 2, 0, 1, 4],\n",
       "       [0, 0, 3, 2, 2],\n",
       "       [2, 1, 0, 3, 2]])"
      ]
     },
     "execution_count": 29,
     "metadata": {},
     "output_type": "execute_result"
    }
   ],
   "source": [
    "B"
   ]
  },
  {
   "cell_type": "code",
   "execution_count": 33,
   "id": "8e0b0a2d-90c3-44d7-9c64-e21cdf9cffb2",
   "metadata": {},
   "outputs": [],
   "source": [
    "mean_A=np.mean(A,axis=1)"
   ]
  },
  {
   "cell_type": "code",
   "execution_count": null,
   "id": "9333be55-cbe2-4b4a-aeed-865d343f5a1a",
   "metadata": {},
   "outputs": [],
   "source": [
    "mean_A"
   ]
  },
  {
   "cell_type": "code",
   "execution_count": null,
   "id": "e6e7affb-b956-468e-896c-ecf501a00e28",
   "metadata": {},
   "outputs": [],
   "source": [
    "std_A=np.std(A,axis=1)"
   ]
  },
  {
   "cell_type": "code",
   "execution_count": null,
   "id": "680844e9-ff63-4ce0-8833-00a03cb5d30d",
   "metadata": {},
   "outputs": [],
   "source": [
    "std_A"
   ]
  },
  {
   "cell_type": "code",
   "execution_count": 34,
   "id": "06a4f6df-a2f0-47c1-9ac2-6e716e65197b",
   "metadata": {},
   "outputs": [],
   "source": [
    "mean_B=np.mean(B,axis=1)"
   ]
  },
  {
   "cell_type": "code",
   "execution_count": 38,
   "id": "0c88e551-e6dd-4ff0-bbdf-d490542ded51",
   "metadata": {},
   "outputs": [],
   "source": [
    "std_B=np.std(B,axis=1)"
   ]
  },
  {
   "cell_type": "code",
   "execution_count": 39,
   "id": "47505a45-8ab0-42dc-94dd-1a4c2f565639",
   "metadata": {},
   "outputs": [
    {
     "data": {
      "text/plain": [
       "array([1.2       , 1.32664992, 1.356466  , 1.2       , 1.0198039 ])"
      ]
     },
     "execution_count": 39,
     "metadata": {},
     "output_type": "execute_result"
    }
   ],
   "source": [
    "std_B"
   ]
  },
  {
   "cell_type": "code",
   "execution_count": null,
   "id": "99b8b067-4807-4eb3-888c-2d18ebbd0e35",
   "metadata": {},
   "outputs": [],
   "source": []
  },
  {
   "cell_type": "code",
   "execution_count": null,
   "id": "dfe63024-8e02-4f99-8042-b8b496f0178c",
   "metadata": {},
   "outputs": [],
   "source": []
  }
 ],
 "metadata": {
  "kernelspec": {
   "display_name": "Python 3 (ipykernel)",
   "language": "python",
   "name": "python3"
  },
  "language_info": {
   "codemirror_mode": {
    "name": "ipython",
    "version": 3
   },
   "file_extension": ".py",
   "mimetype": "text/x-python",
   "name": "python",
   "nbconvert_exporter": "python",
   "pygments_lexer": "ipython3",
   "version": "3.12.2"
  }
 },
 "nbformat": 4,
 "nbformat_minor": 5
}
